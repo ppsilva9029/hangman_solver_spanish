{
 "cells": [
  {
   "cell_type": "code",
   "execution_count": 96,
   "metadata": {},
   "outputs": [],
   "source": [
    "import pandas as pd\n",
    "from itertools import product\n",
    "# from math import log2\n",
    "import time\n",
    "import numpy as np\n",
    "import json\n",
    "import multiprocessing as mp\n",
    "df = pd.read_csv(\"CREA_procesado2.csv\")"
   ]
  },
  {
   "cell_type": "code",
   "execution_count": 97,
   "metadata": {},
   "outputs": [
    {
     "data": {
      "text/html": [
       "<div>\n",
       "<style scoped>\n",
       "    .dataframe tbody tr th:only-of-type {\n",
       "        vertical-align: middle;\n",
       "    }\n",
       "\n",
       "    .dataframe tbody tr th {\n",
       "        vertical-align: top;\n",
       "    }\n",
       "\n",
       "    .dataframe thead th {\n",
       "        text-align: right;\n",
       "    }\n",
       "</style>\n",
       "<table border=\"1\" class=\"dataframe\">\n",
       "  <thead>\n",
       "    <tr style=\"text-align: right;\">\n",
       "      <th></th>\n",
       "      <th>palabra</th>\n",
       "      <th>frec_abs</th>\n",
       "      <th>frec_norm</th>\n",
       "    </tr>\n",
       "  </thead>\n",
       "  <tbody>\n",
       "    <tr>\n",
       "      <th>3127</th>\n",
       "      <td>responsabilidades</td>\n",
       "      <td>4596</td>\n",
       "      <td>30.12</td>\n",
       "    </tr>\n",
       "    <tr>\n",
       "      <th>6059</th>\n",
       "      <td>considerablemente</td>\n",
       "      <td>2207</td>\n",
       "      <td>14.46</td>\n",
       "    </tr>\n",
       "    <tr>\n",
       "      <th>9358</th>\n",
       "      <td>industrialización</td>\n",
       "      <td>1285</td>\n",
       "      <td>8.42</td>\n",
       "    </tr>\n",
       "    <tr>\n",
       "      <th>9755</th>\n",
       "      <td>descentralización</td>\n",
       "      <td>1219</td>\n",
       "      <td>7.99</td>\n",
       "    </tr>\n",
       "    <tr>\n",
       "      <th>11752</th>\n",
       "      <td>perfeccionamiento</td>\n",
       "      <td>958</td>\n",
       "      <td>6.27</td>\n",
       "    </tr>\n",
       "    <tr>\n",
       "      <th>...</th>\n",
       "      <td>...</td>\n",
       "      <td>...</td>\n",
       "      <td>...</td>\n",
       "    </tr>\n",
       "    <tr>\n",
       "      <th>725850</th>\n",
       "      <td>yatromecanicistas</td>\n",
       "      <td>1</td>\n",
       "      <td>0.00</td>\n",
       "    </tr>\n",
       "    <tr>\n",
       "      <th>726488</th>\n",
       "      <td>yoflopoliuhcayotl</td>\n",
       "      <td>1</td>\n",
       "      <td>0.00</td>\n",
       "    </tr>\n",
       "    <tr>\n",
       "      <th>727944</th>\n",
       "      <td>zarigüeyasratones</td>\n",
       "      <td>1</td>\n",
       "      <td>0.00</td>\n",
       "    </tr>\n",
       "    <tr>\n",
       "      <th>729533</th>\n",
       "      <td>zweckrationalität</td>\n",
       "      <td>1</td>\n",
       "      <td>0.00</td>\n",
       "    </tr>\n",
       "    <tr>\n",
       "      <th>729555</th>\n",
       "      <td>zwischentaalicher</td>\n",
       "      <td>1</td>\n",
       "      <td>0.00</td>\n",
       "    </tr>\n",
       "  </tbody>\n",
       "</table>\n",
       "<p>4146 rows × 3 columns</p>\n",
       "</div>"
      ],
      "text/plain": [
       "                  palabra  frec_abs  frec_norm\n",
       "3127    responsabilidades      4596      30.12\n",
       "6059    considerablemente      2207      14.46\n",
       "9358    industrialización      1285       8.42\n",
       "9755    descentralización      1219       7.99\n",
       "11752   perfeccionamiento       958       6.27\n",
       "...                   ...       ...        ...\n",
       "725850  yatromecanicistas         1       0.00\n",
       "726488  yoflopoliuhcayotl         1       0.00\n",
       "727944  zarigüeyasratones         1       0.00\n",
       "729533  zweckrationalität         1       0.00\n",
       "729555  zwischentaalicher         1       0.00\n",
       "\n",
       "[4146 rows x 3 columns]"
      ]
     },
     "execution_count": 97,
     "metadata": {},
     "output_type": "execute_result"
    }
   ],
   "source": [
    "tamano = 17\n",
    "\n",
    "f = [(len(p) == tamano) for p in df[\"palabra\"]]\n",
    "\n",
    "df_fbl = df[f]\n",
    "\n",
    "df_fbl"
   ]
  },
  {
   "cell_type": "code",
   "execution_count": 98,
   "metadata": {},
   "outputs": [
    {
     "data": {
      "text/plain": [
       "'\\ndic = {}\\nfor i in range(2, 22):\\n\\n    df_1 = df[[len(p) == i for p in df[\"palabra\"]]]\\n\\n    dic2 = {}\\n    for c in \"abcdefghijklmnopqrstuvwxyz\":\\n\\n        ocs = 0\\n        for p in df_1[\"palabra\"]:\\n            if chk_l(c, p):\\n                ocs += 1\\n\\n        if ocs > 0: dic2[c] = ocs\\n\\n    if len(dic2) > 0: dic[i] = dic2\\n\\n\\n    \\ns = json.dumps(dic, indent=4)\\n\\nwith open(\"ocurrencias.json\", \"w\") as f:\\n    f.write(s)\\n'"
      ]
     },
     "execution_count": 98,
     "metadata": {},
     "output_type": "execute_result"
    }
   ],
   "source": [
    "def chk_l(l: str, expr: str):\n",
    "\n",
    "    if l in \"aeiou\":\n",
    "        dic = {\n",
    "            \"a\": \"á\",\n",
    "            \"e\": \"é\",\n",
    "            \"i\": \"í\",\n",
    "            \"o\": \"ó\",\n",
    "            \"u\": \"ú\"\n",
    "        }\n",
    "        ocurrencias = expr.count(l) + expr.count(dic[l])\n",
    "\n",
    "    else:\n",
    "        ocurrencias = expr.count(l)\n",
    "    if ocurrencias / len(expr) > 0.56 or (l*3 in expr):\n",
    "        return True\n",
    "\n",
    "    return False\n",
    "'''\n",
    "dic = {}\n",
    "for i in range(2, 22):\n",
    "\n",
    "    df_1 = df[[len(p) == i for p in df[\"palabra\"]]]\n",
    "\n",
    "    dic2 = {}\n",
    "    for c in \"abcdefghijklmnopqrstuvwxyz\":\n",
    "\n",
    "        ocs = 0\n",
    "        for p in df_1[\"palabra\"]:\n",
    "            if chk_l(c, p):\n",
    "                ocs += 1\n",
    "\n",
    "        if ocs > 0: dic2[c] = ocs\n",
    "\n",
    "    if len(dic2) > 0: dic[i] = dic2\n",
    "\n",
    "\n",
    "    \n",
    "s = json.dumps(dic, indent=4)\n",
    "\n",
    "with open(\"ocurrencias.json\", \"w\") as f:\n",
    "    f.write(s)\n",
    "'''"
   ]
  },
  {
   "cell_type": "code",
   "execution_count": 99,
   "metadata": {},
   "outputs": [],
   "source": [
    "# df_fbl[[chk_l(\"a\", p) for p in df_fbl[\"palabra\"]]]"
   ]
  },
  {
   "cell_type": "code",
   "execution_count": null,
   "metadata": {},
   "outputs": [],
   "source": []
  },
  {
   "cell_type": "code",
   "execution_count": 100,
   "metadata": {},
   "outputs": [
    {
     "name": "stdout",
     "output_type": "stream",
     "text": [
      "221650\n"
     ]
    }
   ],
   "source": [
    "def get_combs(expr: str, char):\n",
    "    '''\n",
    "    Obtiene las posibles coincidencias de una letra en una palabra\n",
    "    '''\n",
    "\n",
    "    underls = expr.count(\".\")\n",
    "\n",
    "    posible_chars = [char, \".\"]\n",
    "\n",
    "    combs = product(posible_chars, repeat=underls)\n",
    "\n",
    "\n",
    "    exps = []\n",
    "\n",
    "    for comb in combs:\n",
    "\n",
    "        myGen = (elem for elem in comb)\n",
    "        p = \"\"\n",
    "\n",
    "        for i, c in enumerate(expr):\n",
    "            if c == \".\":\n",
    "                p += next(myGen)\n",
    "            else:\n",
    "                p += expr[i]\n",
    "\n",
    "        if len(expr) > 7 and chk_l(char, p): continue\n",
    "        exps.append(p)\n",
    "        \n",
    "\n",
    "    return exps\n",
    "\n",
    "print(len(get_combs(\".\"*20, \"l\")))\n"
   ]
  },
  {
   "cell_type": "code",
   "execution_count": 101,
   "metadata": {},
   "outputs": [],
   "source": [
    "def get_regex_v(char: str, comb: str):\n",
    "\n",
    "    dic = {\n",
    "            \"a\": \"á\",\n",
    "            \"e\": \"é\",\n",
    "            \"i\": \"í\",\n",
    "            \"o\": \"ó\",\n",
    "            \"u\": \"ú\"\n",
    "        }\n",
    "\n",
    "    r = \"\"\n",
    "    for c in comb:\n",
    "        \n",
    "        if c == \".\":\n",
    "            r += f\"(?!{char}|{dic[char]}).\"\n",
    "\n",
    "        elif c == char:\n",
    "            r += f\"[{char}{dic[char]}]\"\n",
    "        else:\n",
    "            r += c\n",
    "    \n",
    "    return r\n",
    "\n",
    "# get_regex_v(\"a\", \"g.aia.\")"
   ]
  },
  {
   "cell_type": "code",
   "execution_count": 102,
   "metadata": {},
   "outputs": [],
   "source": [
    "def get_regex_c(char: str, comb: str):\n",
    "    \n",
    "    r = \"\"\n",
    "    for c in comb:\n",
    "        \n",
    "        if c == \".\":\n",
    "            r += f\"(?!{char}).\"\n",
    "\n",
    "        else:\n",
    "            r += c\n",
    "    \n",
    "    return r\n",
    "    \n",
    "# get_regex_c(\"l\", \"g.il.\")"
   ]
  },
  {
   "cell_type": "code",
   "execution_count": 103,
   "metadata": {},
   "outputs": [
    {
     "data": {
      "text/plain": [
       "'g(?!s).st(?!s).(?!s).a'"
      ]
     },
     "execution_count": 103,
     "metadata": {},
     "output_type": "execute_result"
    }
   ],
   "source": [
    "def get_regex(char: str, comb: str):\n",
    "    \n",
    "    if char in \"aeiou\" and char != \"\":\n",
    "        return get_regex_v(char, comb)\n",
    "\n",
    "    else:\n",
    "        return get_regex_c(char, comb)\n",
    "\n",
    "get_regex(\"s\", \"g.st..a\")"
   ]
  },
  {
   "cell_type": "code",
   "execution_count": 104,
   "metadata": {},
   "outputs": [
    {
     "data": {
      "text/plain": [
       "4146"
      ]
     },
     "execution_count": 104,
     "metadata": {},
     "output_type": "execute_result"
    }
   ],
   "source": [
    "len(df_fbl.index)"
   ]
  },
  {
   "cell_type": "code",
   "execution_count": 105,
   "metadata": {},
   "outputs": [],
   "source": [
    "def get_punt(args):\n",
    "\n",
    "        char, expr, df = args\n",
    "\n",
    "        # posible combinations of the letter in the expresion\n",
    "        combs = get_combs(expr, char)\n",
    "\n",
    "        # original rows of the dataframe\n",
    "        rows = len(df.index)\n",
    "\n",
    "        punt = 0\n",
    "\n",
    "        # Get the puntuation for the combination \"_______\"\n",
    "        regx = get_regex(char, len(expr)*\".\")\n",
    "        df2 = df[df[\"palabra\"].str.match(regx) == True]\n",
    "        p = len(df2.index) / rows\n",
    "\n",
    "        if p != 0:\n",
    "            punt += (p * np.log2(1/p))\n",
    "\n",
    "\n",
    "        # Reduce the \n",
    "        if char in \"aeiou\":\n",
    "            vocals = {\n",
    "                \"a\":\"á\",\n",
    "                \"e\":\"é\",\n",
    "                \"i\":\"í\",\n",
    "                \"o\":\"ó\",\n",
    "                \"u\":\"ú\"\n",
    "            }\n",
    "\n",
    "            df = df[[(char in p or vocals[char] in p) for p in df[\"palabra\"]]]\n",
    "        else:\n",
    "            df = df[[char in p for p in df[\"palabra\"]]]\n",
    "        \n",
    "        for comb in combs:\n",
    "            \n",
    "            regx = get_regex(char, comb)\n",
    "\n",
    "            df2 = df[df[\"palabra\"].str.match(regx) == True]\n",
    "\n",
    "            reduced_rows = len(df2.index)\n",
    "\n",
    "            p = reduced_rows / rows\n",
    "\n",
    "            if p == 0:\n",
    "                continue\n",
    "\n",
    "            info_bits = np.log2(1/p)\n",
    "\n",
    "            punt += info_bits * p\n",
    "\n",
    "        return punt"
   ]
  },
  {
   "cell_type": "code",
   "execution_count": 106,
   "metadata": {},
   "outputs": [
    {
     "data": {
      "text/html": [
       "<div>\n",
       "<style scoped>\n",
       "    .dataframe tbody tr th:only-of-type {\n",
       "        vertical-align: middle;\n",
       "    }\n",
       "\n",
       "    .dataframe tbody tr th {\n",
       "        vertical-align: top;\n",
       "    }\n",
       "\n",
       "    .dataframe thead th {\n",
       "        text-align: right;\n",
       "    }\n",
       "</style>\n",
       "<table border=\"1\" class=\"dataframe\">\n",
       "  <thead>\n",
       "    <tr style=\"text-align: right;\">\n",
       "      <th></th>\n",
       "      <th>palabra</th>\n",
       "      <th>frec_abs</th>\n",
       "      <th>frec_norm</th>\n",
       "    </tr>\n",
       "  </thead>\n",
       "  <tbody>\n",
       "    <tr>\n",
       "      <th>14976</th>\n",
       "      <td>inconscientemente</td>\n",
       "      <td>691</td>\n",
       "      <td>4.52</td>\n",
       "    </tr>\n",
       "    <tr>\n",
       "      <th>16364</th>\n",
       "      <td>sorprendentemente</td>\n",
       "      <td>612</td>\n",
       "      <td>4.01</td>\n",
       "    </tr>\n",
       "    <tr>\n",
       "      <th>16429</th>\n",
       "      <td>electrodomésticos</td>\n",
       "      <td>608</td>\n",
       "      <td>3.98</td>\n",
       "    </tr>\n",
       "    <tr>\n",
       "      <th>24653</th>\n",
       "      <td>indefectiblemente</td>\n",
       "      <td>342</td>\n",
       "      <td>2.24</td>\n",
       "    </tr>\n",
       "    <tr>\n",
       "      <th>27288</th>\n",
       "      <td>circunscripciones</td>\n",
       "      <td>295</td>\n",
       "      <td>1.93</td>\n",
       "    </tr>\n",
       "    <tr>\n",
       "      <th>...</th>\n",
       "      <td>...</td>\n",
       "      <td>...</td>\n",
       "      <td>...</td>\n",
       "    </tr>\n",
       "    <tr>\n",
       "      <th>717890</th>\n",
       "      <td>vermessungswesens</td>\n",
       "      <td>1</td>\n",
       "      <td>0.00</td>\n",
       "    </tr>\n",
       "    <tr>\n",
       "      <th>718252</th>\n",
       "      <td>vestenbergsgreuth</td>\n",
       "      <td>1</td>\n",
       "      <td>0.00</td>\n",
       "    </tr>\n",
       "    <tr>\n",
       "      <th>718947</th>\n",
       "      <td>videorreproductor</td>\n",
       "      <td>1</td>\n",
       "      <td>0.00</td>\n",
       "    </tr>\n",
       "    <tr>\n",
       "      <th>723090</th>\n",
       "      <td>wertdringlichkeit</td>\n",
       "      <td>1</td>\n",
       "      <td>0.00</td>\n",
       "    </tr>\n",
       "    <tr>\n",
       "      <th>723106</th>\n",
       "      <td>werurteilfreiheit</td>\n",
       "      <td>1</td>\n",
       "      <td>0.00</td>\n",
       "    </tr>\n",
       "  </tbody>\n",
       "</table>\n",
       "<p>436 rows × 3 columns</p>\n",
       "</div>"
      ],
      "text/plain": [
       "                  palabra  frec_abs  frec_norm\n",
       "14976   inconscientemente       691       4.52\n",
       "16364   sorprendentemente       612       4.01\n",
       "16429   electrodomésticos       608       3.98\n",
       "24653   indefectiblemente       342       2.24\n",
       "27288   circunscripciones       295       1.93\n",
       "...                   ...       ...        ...\n",
       "717890  vermessungswesens         1       0.00\n",
       "718252  vestenbergsgreuth         1       0.00\n",
       "718947  videorreproductor         1       0.00\n",
       "723090  wertdringlichkeit         1       0.00\n",
       "723106  werurteilfreiheit         1       0.00\n",
       "\n",
       "[436 rows x 3 columns]"
      ]
     },
     "execution_count": 106,
     "metadata": {},
     "output_type": "execute_result"
    }
   ],
   "source": [
    "f = [not \"a\" in expr for expr in df_fbl[\"palabra\"]]\n",
    "df_fbl2 = df_fbl[f]\n",
    "df_fbl2"
   ]
  },
  {
   "cell_type": "code",
   "execution_count": null,
   "metadata": {},
   "outputs": [],
   "source": []
  },
  {
   "cell_type": "code",
   "execution_count": 107,
   "metadata": {},
   "outputs": [
    {
     "name": "stdout",
     "output_type": "stream",
     "text": [
      "[('a', 2.666139737800694), ('b', 0.7983909088361276), ('c', 1.1110050797459612), ('d', 0.9395661173101545), ('e', 2.177383006036795), ('f', 0.524326960991265), ('g', 0.7323294567803701), ('h', 0.752445609157393), ('i', 1.8937245533547618), ('j', 0.3778345479823218), ('k', 0.5900744180468861), ('l', 1.392756040620288), ('m', 1.0233649387192973), ('n', 1.470819859733589), ('ñ', 0.10993232416953255), ('o', 1.8720615276615138), ('p', 0.7973906688646231), ('q', 0.12087178572642447), ('r', 1.652194975037789), ('s', 1.585829820703209), ('t', 1.2438154639393277), ('u', 1.2579753419029074), ('v', 0.4870652741196262), ('w', 0.21914235522026262), ('x', 0.22996182561519501), ('y', 0.6336666462869587), ('z', 0.4666827438816035)]\n",
      "5 2.6155922412872314\n"
     ]
    }
   ],
   "source": [
    "#def get_puntuations(expr: str):\n",
    "\n",
    "dic = {}\n",
    "\n",
    "for i in range(5, 6):\n",
    "\n",
    "    t1 = time.time()\n",
    "\n",
    "    tamano = i\n",
    "\n",
    "    f = [len(p) == tamano for p in df[\"palabra\"]]\n",
    "\n",
    "    df_fbl = df[f]\n",
    "\n",
    "    \n",
    "\n",
    "    letras = [l for l in \"abcdefghijklmnñopqrstuvwxyz\"]\n",
    "\n",
    "    args_ = [(c, \".\"* tamano, df_fbl) for c in letras]\n",
    "    \n",
    "    with mp.Pool(6) as p:\n",
    "\n",
    "        punts = p.map(get_punt, args_)\n",
    "\n",
    "\n",
    "    lst = list(zip(letras, punts))\n",
    "    print(lst)\n",
    "\n",
    "\n",
    "    dic2 = {tup[0]: tup[1] for tup in lst}\n",
    "\n",
    "    dic[i] = dic2\n",
    "\n",
    "    t2 = time.time()\n",
    "\n",
    "    print(i, t2 - t1)\n",
    "\n",
    "    #lst = sorted(list(dic2.items()), reverse=True, key=lambda l: l[1])\n",
    "    #print(lst[:3])\n",
    "    #print(dic2)\n",
    "        "
   ]
  },
  {
   "cell_type": "code",
   "execution_count": null,
   "metadata": {},
   "outputs": [],
   "source": []
  },
  {
   "cell_type": "code",
   "execution_count": 108,
   "metadata": {},
   "outputs": [],
   "source": [
    "'''\n",
    "dic_def = {}\n",
    "\n",
    "for i in range(5, 6):\n",
    "    d = {lst[0]:lst[1] for lst in dic[i]}\n",
    "\n",
    "    dic_def[i] = d\n",
    "'''\n",
    "s = json.dumps(dic, indent=4)\n",
    "\n",
    "with open(\"puntuaciones16.json\", \"w\") as f:\n",
    "    f.write(s)"
   ]
  },
  {
   "cell_type": "code",
   "execution_count": 109,
   "metadata": {},
   "outputs": [
    {
     "ename": "FileNotFoundError",
     "evalue": "[Errno 2] No such file or directory: 'puntuaciones2a13.json'",
     "output_type": "error",
     "traceback": [
      "\u001b[0;31m---------------------------------------------------------------------------\u001b[0m",
      "\u001b[0;31mFileNotFoundError\u001b[0m                         Traceback (most recent call last)",
      "\u001b[1;32m/mnt/d/Proyectos/Hangman/base.ipynb Cell 17'\u001b[0m in \u001b[0;36m<cell line: 1>\u001b[0;34m()\u001b[0m\n\u001b[0;32m----> <a href='vscode-notebook-cell://wsl%2Bubuntu/mnt/d/Proyectos/Hangman/base.ipynb#ch0000017vscode-remote?line=0'>1</a>\u001b[0m \u001b[39mwith\u001b[39;00m \u001b[39mopen\u001b[39;49m(\u001b[39m\"\u001b[39;49m\u001b[39mpuntuaciones2a13.json\u001b[39;49m\u001b[39m\"\u001b[39;49m) \u001b[39mas\u001b[39;00m f:\n\u001b[1;32m      <a href='vscode-notebook-cell://wsl%2Bubuntu/mnt/d/Proyectos/Hangman/base.ipynb#ch0000017vscode-remote?line=1'>2</a>\u001b[0m     s \u001b[39m=\u001b[39m f\u001b[39m.\u001b[39mread()\n\u001b[1;32m      <a href='vscode-notebook-cell://wsl%2Bubuntu/mnt/d/Proyectos/Hangman/base.ipynb#ch0000017vscode-remote?line=3'>4</a>\u001b[0m \u001b[39mwith\u001b[39;00m \u001b[39mopen\u001b[39m(\u001b[39m\"\u001b[39m\u001b[39mpuntuaciones12a15.json\u001b[39m\u001b[39m\"\u001b[39m) \u001b[39mas\u001b[39;00m f:\n",
      "\u001b[0;31mFileNotFoundError\u001b[0m: [Errno 2] No such file or directory: 'puntuaciones2a13.json'"
     ]
    }
   ],
   "source": [
    "with open(\"puntuaciones2a13.json\") as f:\n",
    "    s = f.read()\n",
    "\n",
    "with open(\"puntuaciones12a15.json\") as f:\n",
    "    s2 = f.read()\n",
    "\n",
    "d1 = json.loads(s)\n",
    "d2 = json.loads(s2)\n",
    "\n",
    "d3 = d1 | d2\n",
    "\n",
    "s = json.dumps(d3, indent=4)\n",
    "\n",
    "with open(\"puntuaciones2a15.json\", \"w\") as f:\n",
    "    f.write(s)\n"
   ]
  },
  {
   "cell_type": "code",
   "execution_count": null,
   "metadata": {},
   "outputs": [
    {
     "data": {
      "text/plain": [
       "True"
      ]
     },
     "execution_count": 38,
     "metadata": {},
     "output_type": "execute_result"
    }
   ],
   "source": [
    "\"\" in \"aeiou\""
   ]
  },
  {
   "cell_type": "code",
   "execution_count": null,
   "metadata": {},
   "outputs": [
    {
     "data": {
      "text/plain": [
       "'a(?!).(?!).(?!).(?!).'"
      ]
     },
     "execution_count": 40,
     "metadata": {},
     "output_type": "execute_result"
    }
   ],
   "source": [
    "e = \"a....\"\n",
    "get_regex(\"a\", e)"
   ]
  },
  {
   "cell_type": "code",
   "execution_count": null,
   "metadata": {},
   "outputs": [],
   "source": [
    "df_r = df[[len(p) == 11 for p in df[\"palabra\"]]]\n",
    "\n",
    "expr = \".a......a..\"\n",
    "\n",
    "df_r2 = df_r[df_r.palabra.str.match(get_regex_c(\"a\", expr))]\n",
    "\n",
    "df_r2\n",
    "\n"
   ]
  },
  {
   "cell_type": "code",
   "execution_count": null,
   "metadata": {},
   "outputs": [
    {
     "name": "stdout",
     "output_type": "stream",
     "text": [
      "[('a', 0.5152641447533236), ('e', 0.4517247271731491), ('i', 0.4110286591695343), ('o', 0.3994836432962012), ('r', 0.3582390687987268), ('s', 0.3402814396219338), ('n', 0.3151777132733672), ('l', 0.28383896120072893), ('u', 0.2769697758725374), ('t', 0.25521546704393555), ('c', 0.23032609838109633), ('m', 0.2103612160728021), ('d', 0.18940969913354386), ('b', 0.16247765044225682), ('p', 0.15870879253763068), ('h', 0.14628185720568584), ('g', 0.1440057617676516), ('y', 0.12115130749555561), ('k', 0.10869622338763112), ('f', 0.1003689125703882), ('v', 0.08972440671497957), ('z', 0.0809030616849592), ('j', 0.06842158666065863), ('x', 0.035429481055559695), ('w', 0.03517374409300408), ('q', 0.01766937751756101), ('ñ', 0.016027658321749863)]\n"
     ]
    }
   ],
   "source": [
    "def get_puntuations(expr: str, letras: str, df: pd.DataFrame):\n",
    "\n",
    "    df = df[[len(p) == len(expr) for p in df[\"palabra\"]]]\n",
    "\n",
    "    args_ = [(c, expr, df) for c in letras]\n",
    "\n",
    "    with mp.Pool(6) as p:\n",
    "\n",
    "        punts = p.map(get_punt, args_)\n",
    "\n",
    "\n",
    "    lst = list(zip(letras, punts))\n",
    "\n",
    "    dic2 = {tup[0]: tup[1] for tup in lst}\n",
    "\n",
    "    lst = sorted(list(dic2.items()), reverse=True, key = lambda l: l[1])\n",
    "    print()\n",
    "    #best_letter = \"\"\n",
    "    #best_punt = 0\n",
    "\n",
    "    #for l, punt in dic2.items():\n",
    "    #    if punt > best_punt:\n",
    "    #        best_punt = punt\n",
    "    #        best_letter = l\n",
    "\n",
    "    # -> return dic2\n",
    "\n",
    "letras = [l for l in \"abcdefghijklmnñopqrstuvwxyz\"]\n",
    "get_puntuations(\".....\", letras, df)"
   ]
  },
  {
   "cell_type": "code",
   "execution_count": null,
   "metadata": {},
   "outputs": [
    {
     "data": {
      "text/html": [
       "<div>\n",
       "<style scoped>\n",
       "    .dataframe tbody tr th:only-of-type {\n",
       "        vertical-align: middle;\n",
       "    }\n",
       "\n",
       "    .dataframe tbody tr th {\n",
       "        vertical-align: top;\n",
       "    }\n",
       "\n",
       "    .dataframe thead th {\n",
       "        text-align: right;\n",
       "    }\n",
       "</style>\n",
       "<table border=\"1\" class=\"dataframe\">\n",
       "  <thead>\n",
       "    <tr style=\"text-align: right;\">\n",
       "      <th></th>\n",
       "      <th>palabra</th>\n",
       "      <th>frec_abs</th>\n",
       "      <th>frec_norm</th>\n",
       "    </tr>\n",
       "  </thead>\n",
       "  <tbody>\n",
       "    <tr>\n",
       "      <th>49930</th>\n",
       "      <td>manifestará</td>\n",
       "      <td>112</td>\n",
       "      <td>0.73</td>\n",
       "    </tr>\n",
       "    <tr>\n",
       "      <th>221305</th>\n",
       "      <td>manifestaré</td>\n",
       "      <td>6</td>\n",
       "      <td>0.03</td>\n",
       "    </tr>\n",
       "    <tr>\n",
       "      <th>309997</th>\n",
       "      <td>manifestare</td>\n",
       "      <td>3</td>\n",
       "      <td>0.01</td>\n",
       "    </tr>\n",
       "    <tr>\n",
       "      <th>675090</th>\n",
       "      <td>sanchiguaro</td>\n",
       "      <td>1</td>\n",
       "      <td>0.00</td>\n",
       "    </tr>\n",
       "    <tr>\n",
       "      <th>675649</th>\n",
       "      <td>santificará</td>\n",
       "      <td>1</td>\n",
       "      <td>0.00</td>\n",
       "    </tr>\n",
       "  </tbody>\n",
       "</table>\n",
       "</div>"
      ],
      "text/plain": [
       "            palabra  frec_abs  frec_norm\n",
       "49930   manifestará       112       0.73\n",
       "221305  manifestaré         6       0.03\n",
       "309997  manifestare         3       0.01\n",
       "675090  sanchiguaro         1       0.00\n",
       "675649  santificará         1       0.00"
      ]
     },
     "execution_count": 59,
     "metadata": {},
     "output_type": "execute_result"
    }
   ],
   "source": [
    "expr = \".an.....ar.\"\n",
    "\n",
    "df_r3 = df_r2[df_r2.palabra.str.match(get_regex_c(\"r\", expr))]\n",
    "\n",
    "df_r3"
   ]
  },
  {
   "cell_type": "code",
   "execution_count": null,
   "metadata": {},
   "outputs": [
    {
     "name": "stdout",
     "output_type": "stream",
     "text": [
      "b 0.0\n",
      "c 4.4217935649972375\n",
      "d 0.0\n",
      "f 4.643856189774724\n",
      "g 2.575424759098899\n",
      "h 2.575424759098899\n",
      "i 0\n",
      "j 0.0\n",
      "k 0.0\n",
      "l 0.0\n",
      "m 5.28771237954945\n",
      "n 0.0\n",
      "ñ 0.0\n",
      "o 2.575424759098899\n",
      "p 0.0\n",
      "q 0.0\n",
      "s 0\n",
      "t 4.643856189774724\n",
      "u 2.575424759098899\n",
      "v 0.0\n",
      "w 0.0\n",
      "x 0.0\n",
      "y 0.0\n",
      "z 0.0\n"
     ]
    }
   ],
   "source": [
    "letras.pop(letras.index(\"r\"))\n",
    "get_puntuations(expr, letras, df_r3)"
   ]
  },
  {
   "cell_type": "code",
   "execution_count": null,
   "metadata": {},
   "outputs": [
    {
     "data": {
      "text/html": [
       "<div>\n",
       "<style scoped>\n",
       "    .dataframe tbody tr th:only-of-type {\n",
       "        vertical-align: middle;\n",
       "    }\n",
       "\n",
       "    .dataframe tbody tr th {\n",
       "        vertical-align: top;\n",
       "    }\n",
       "\n",
       "    .dataframe thead th {\n",
       "        text-align: right;\n",
       "    }\n",
       "</style>\n",
       "<table border=\"1\" class=\"dataframe\">\n",
       "  <thead>\n",
       "    <tr style=\"text-align: right;\">\n",
       "      <th></th>\n",
       "      <th>palabra</th>\n",
       "      <th>frec_abs</th>\n",
       "      <th>frec_norm</th>\n",
       "    </tr>\n",
       "  </thead>\n",
       "  <tbody>\n",
       "    <tr>\n",
       "      <th>87410</th>\n",
       "      <td>ansiolítico</td>\n",
       "      <td>40</td>\n",
       "      <td>0.26</td>\n",
       "    </tr>\n",
       "    <tr>\n",
       "      <th>136582</th>\n",
       "      <td>antiofídico</td>\n",
       "      <td>16</td>\n",
       "      <td>0.10</td>\n",
       "    </tr>\n",
       "    <tr>\n",
       "      <th>334979</th>\n",
       "      <td>antiquímico</td>\n",
       "      <td>2</td>\n",
       "      <td>0.01</td>\n",
       "    </tr>\n",
       "    <tr>\n",
       "      <th>436322</th>\n",
       "      <td>angiolítico</td>\n",
       "      <td>1</td>\n",
       "      <td>0.00</td>\n",
       "    </tr>\n",
       "  </tbody>\n",
       "</table>\n",
       "</div>"
      ],
      "text/plain": [
       "            palabra  frec_abs  frec_norm\n",
       "87410   ansiolítico        40       0.26\n",
       "136582  antiofídico        16       0.10\n",
       "334979  antiquímico         2       0.01\n",
       "436322  angiolítico         1       0.00"
      ]
     },
     "execution_count": 49,
     "metadata": {},
     "output_type": "execute_result"
    }
   ],
   "source": [
    "expr = \"a..i..í.ic.\"\n",
    "\n",
    "df_r4 = df_r3[df_r3.palabra.str.match(get_regex_c(\"a\", expr))]\n",
    "\n",
    "df_r4"
   ]
  }
 ],
 "metadata": {
  "interpreter": {
   "hash": "c6012db67200dbfe78e27123f2f148f9ae9e5fefc51c0301988d84f8a32f51ba"
  },
  "kernelspec": {
   "display_name": "Python 3.9.7 ('venv': venv)",
   "language": "python",
   "name": "python3"
  },
  "language_info": {
   "codemirror_mode": {
    "name": "ipython",
    "version": 3
   },
   "file_extension": ".py",
   "mimetype": "text/x-python",
   "name": "python",
   "nbconvert_exporter": "python",
   "pygments_lexer": "ipython3",
   "version": "3.9.7"
  },
  "orig_nbformat": 4
 },
 "nbformat": 4,
 "nbformat_minor": 2
}
